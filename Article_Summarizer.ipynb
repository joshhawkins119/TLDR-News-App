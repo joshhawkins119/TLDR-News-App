{
 "cells": [
  {
   "cell_type": "code",
   "execution_count": 26,
   "metadata": {},
   "outputs": [],
   "source": [
    "%%capture\n",
    "\n",
    "pip install newspaper3k"
   ]
  },
  {
   "cell_type": "code",
   "execution_count": 27,
   "metadata": {},
   "outputs": [
    {
     "name": "stderr",
     "output_type": "stream",
     "text": [
      "[nltk_data] Downloading package punkt to\n",
      "[nltk_data]     /Users/joshhawkins/nltk_data...\n",
      "[nltk_data]   Package punkt is already up-to-date!\n"
     ]
    }
   ],
   "source": [
    "%%capture\n",
    "\n",
    "import nltk\n",
    "from newspaper import Article\n",
    "nltk.download('punkt')\n",
    "from IPython.display import clear_output\n",
    "\n",
    "# make pretty optional\n",
    "import pprint\n",
    "pp = pprint.PrettyPrinter(indent=4)\n",
    "# pp.pprint(article.summary.replace('\\n', ''))"
   ]
  },
  {
   "cell_type": "code",
   "execution_count": 28,
   "metadata": {},
   "outputs": [
    {
     "name": "stdout",
     "output_type": "stream",
     "text": [
      "Please enter an article URL\n"
     ]
    },
    {
     "data": {
      "application/vnd.jupyter.widget-view+json": {
       "model_id": "1959f9df1b8a4f4f98f1187a1c7292a7",
       "version_major": 2,
       "version_minor": 0
      },
      "text/plain": [
       "Text(value='')"
      ]
     },
     "metadata": {},
     "output_type": "display_data"
    }
   ],
   "source": [
    "import ipywidgets as widgets\n",
    "from IPython.display import display\n",
    "\n",
    "class url_input():\n",
    "    def __init__(self, url = \"\"\n",
    "                ):\n",
    "        self.url = widgets.Text(url)\n",
    "        self.url.on_submit(self.handle_submit)\n",
    "        display(self.url)\n",
    "\n",
    "    def handle_submit(self, text):\n",
    "        self.v = str(text.value)\n",
    "        return self.v\n",
    "\n",
    "print(\"Please enter an article URL\")\n",
    "f = url_input()\n"
   ]
  },
  {
   "cell_type": "code",
   "execution_count": 55,
   "metadata": {},
   "outputs": [
    {
     "data": {
      "application/vnd.jupyter.widget-view+json": {
       "model_id": "659dd8632583473395ee14bedf6bf927",
       "version_major": 2,
       "version_minor": 0
      },
      "text/plain": [
       "Button(description='TL;DR', style=ButtonStyle())"
      ]
     },
     "metadata": {},
     "output_type": "display_data"
    },
    {
     "data": {
      "application/vnd.jupyter.widget-view+json": {
       "model_id": "f2382448c07544b8b210fc656894b36f",
       "version_major": 2,
       "version_minor": 0
      },
      "text/plain": [
       "Output()"
      ]
     },
     "metadata": {},
     "output_type": "display_data"
    }
   ],
   "source": [
    "button = widgets.Button(description='TL;DR')\n",
    "output = widgets.Output()\n",
    "\n",
    "display(button, output)\n",
    "\n",
    "def click(b):\n",
    "    # parse and summarize article\n",
    "    article = Article(f.url.value)\n",
    "    article.download()\n",
    "    article.parse()\n",
    "    article.nlp()\n",
    "\n",
    "    #display\n",
    "    with output:\n",
    "        clear_output()\n",
    "        display('AUTHOR: {}'.format(', '.join([str(elem) for elem in article.authors])), \n",
    "                '======================================================================',\n",
    "                'DATE PUBLISHED: {}'.format(article.publish_date), \n",
    "                '======================================================================',\n",
    "                'SUMMARY: {}'.format(article.summary.replace('\\n', '')),\n",
    "                '======================================================================',\n",
    "                'FULL TEXT: {}'.format(article.text.replace('\\n', ''))\n",
    "               )\n",
    "\n",
    "button.on_click(click)\n"
   ]
  },
  {
   "cell_type": "code",
   "execution_count": null,
   "metadata": {},
   "outputs": [],
   "source": []
  }
 ],
 "metadata": {
  "kernelspec": {
   "display_name": "Python 3",
   "language": "python",
   "name": "python3"
  },
  "language_info": {
   "codemirror_mode": {
    "name": "ipython",
    "version": 3
   },
   "file_extension": ".py",
   "mimetype": "text/x-python",
   "name": "python",
   "nbconvert_exporter": "python",
   "pygments_lexer": "ipython3",
   "version": "3.8.5"
  }
 },
 "nbformat": 4,
 "nbformat_minor": 4
}
