{
 "cells": [
  {
   "cell_type": "code",
   "execution_count": 7,
   "metadata": {
    "hideCode": true,
    "hidePrompt": false
   },
   "outputs": [],
   "source": [
    "%%capture\n",
    "\n",
    "pip install newspaper3k"
   ]
  },
  {
   "cell_type": "code",
   "execution_count": 8,
   "metadata": {
    "hideCode": true,
    "hideOutput": false,
    "hidePrompt": false
   },
   "outputs": [],
   "source": [
    "%%capture\n",
    "\n",
    "!pip install hide_code\n",
    "#pip install hide_code --upgrade\n",
    "!jupyter nbextension install --py hide_code\n",
    "!jupyter nbextension enable --py hide_code\n",
    "!jupyter serverextension enable --py hide_code\n",
    "# jupyter nbextension enable hide_code --py"
   ]
  },
  {
   "cell_type": "code",
   "execution_count": 9,
   "metadata": {
    "hideCode": true,
    "hidePrompt": false
   },
   "outputs": [],
   "source": [
    "%%capture\n",
    "\n",
    "import nltk\n",
    "from newspaper import Article\n",
    "nltk.download('punkt')\n",
    "from IPython.display import clear_output\n",
    "\n",
    "# make pretty optional\n",
    "import pprint\n",
    "pp = pprint.PrettyPrinter(indent=4)\n",
    "# pp.pprint(article.summary.replace('\\n', ''))\n"
   ]
  },
  {
   "cell_type": "code",
   "execution_count": 10,
   "metadata": {
    "hideCode": true,
    "hidePrompt": false
   },
   "outputs": [
    {
     "name": "stdout",
     "output_type": "stream",
     "text": [
      "Please enter an article URL\n"
     ]
    },
    {
     "data": {
      "application/vnd.jupyter.widget-view+json": {
       "model_id": "a2642e4a351845acb49c3968008139d9",
       "version_major": 2,
       "version_minor": 0
      },
      "text/plain": [
       "Text(value='')"
      ]
     },
     "metadata": {},
     "output_type": "display_data"
    }
   ],
   "source": [
    "import ipywidgets as widgets\n",
    "from IPython.display import display\n",
    "\n",
    "class url_input():\n",
    "    def __init__(self, url = \"\"\n",
    "                ):\n",
    "        self.url = widgets.Text(url)\n",
    "        self.url.on_submit(self.handle_submit)\n",
    "        display(self.url)\n",
    "\n",
    "    def handle_submit(self, text):\n",
    "        self.v = str(text.value)\n",
    "        return self.v\n",
    "\n",
    "print(\"Please enter an article URL\")\n",
    "f = url_input()\n"
   ]
  },
  {
   "cell_type": "code",
   "execution_count": 11,
   "metadata": {
    "hideCode": true,
    "hidePrompt": false
   },
   "outputs": [
    {
     "data": {
      "application/vnd.jupyter.widget-view+json": {
       "model_id": "88f74aaa32a54c2e9454cd219b9649e2",
       "version_major": 2,
       "version_minor": 0
      },
      "text/plain": [
       "Button(description='TL;DR', style=ButtonStyle())"
      ]
     },
     "metadata": {},
     "output_type": "display_data"
    },
    {
     "data": {
      "application/vnd.jupyter.widget-view+json": {
       "model_id": "6565c39f528c453daae6340356ee603c",
       "version_major": 2,
       "version_minor": 0
      },
      "text/plain": [
       "Output()"
      ]
     },
     "metadata": {},
     "output_type": "display_data"
    }
   ],
   "source": [
    "button = widgets.Button(description='TL;DR')\n",
    "output = widgets.Output()\n",
    "\n",
    "display(button, output)\n",
    "\n",
    "def click(b):\n",
    "    # parse and summarize article\n",
    "    article = Article(f.url.value)\n",
    "    article.download()\n",
    "    article.parse()\n",
    "    article.nlp()\n",
    "\n",
    "    #display\n",
    "    with output:\n",
    "        clear_output()\n",
    "        display('AUTHOR: {}'.format(', '.join([str(elem) for elem in article.authors])), \n",
    "                '======================================================================',\n",
    "                'DATE PUBLISHED: {}'.format(article.publish_date), \n",
    "                '======================================================================',\n",
    "                'SUMMARY: {}'.format(article.summary.replace('\\n', '')),\n",
    "                '======================================================================',\n",
    "                'FULL TEXT: {}'.format(article.text.replace('\\n', ''))\n",
    "               )\n",
    "\n",
    "button.on_click(click)\n"
   ]
  }
 ],
 "metadata": {
  "celltoolbar": "Hide code",
  "hide_code_all_hidden": false,
  "kernelspec": {
   "display_name": "Python 3 (ipykernel)",
   "language": "python",
   "name": "python3"
  },
  "language_info": {
   "codemirror_mode": {
    "name": "ipython",
    "version": 3
   },
   "file_extension": ".py",
   "mimetype": "text/x-python",
   "name": "python",
   "nbconvert_exporter": "python",
   "pygments_lexer": "ipython3",
   "version": "3.8.5"
  }
 },
 "nbformat": 4,
 "nbformat_minor": 4
}
